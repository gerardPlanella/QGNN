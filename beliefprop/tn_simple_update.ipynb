{
 "cells": [
  {
   "cell_type": "code",
   "execution_count": 3,
   "metadata": {},
   "outputs": [
    {
     "name": "stderr",
     "output_type": "stream",
     "text": [
      "OMP: Info #276: omp_set_nested routine deprecated, please use omp_set_max_active_levels instead.\n"
     ]
    }
   ],
   "source": [
    "import quimb.tensor as qtn\n",
    "import quimb as qu\n",
    "from utils import *"
   ]
  },
  {
   "cell_type": "markdown",
   "metadata": {},
   "source": [
    "The task in this notebook is to find the ground state energy of a given ising model hamiltonian using the update algorithm on tensor networks.\n",
    "For the update we use the update algorithm implemented in the `quimb` library. But first let's quickly review the basics of the update algorithm.\n",
    "\n",
    "The imaginary time evolution (ITE) operator is defined as follows:\n",
    "$$\n",
    "U(\\tau) = e^{-\\tau H}\n",
    "$$\n",
    "For $\\tau \\rightarrow \\infty$ the ITE operator maps any state to the ground state of the hamiltonian $H$. The ITE operator is not unitary (so, it has actually nothing to do with time evolution), but it works like a softmax (with $\\tau = -\\beta$) to pick out the ground state.\n",
    "$$\n",
    "\\ket{\\psi_0} \\propto \\lim_{\\tau \\rightarrow \\infty} U(\\tau) \\ket{\\psi_\\text{init}}\n",
    "$$\n",
    "To avoid huge numbers in the exponential, we iterate the ITE operator in small steps $\\delta \\tau$ until convergence.\n",
    "$$\n",
    "\\psi_{\\tau + \\delta \\tau} = \\frac{U(\\delta \\tau) \\psi_{\\tau}}{\\| U(\\delta \\tau) \\psi_{\\tau} \\|_2}\n",
    "$$\n",
    "Furthermore, the update algorithm uses the fact that a matrix exponential can be decomposed into a product of exponentials of the sum of the matrices if the matrices commute: $e^{A + B} = e^A e^B \\iff [A, B] = 0$.\n",
    "So, if we assume that the hamiltonian can be decomposed into two commuting parts $H = \\sum_i H_i$ (e.g. that operate on different parts of the system), we can decompose the ITE operator as follows:\n",
    "$$\n",
    "U(\\delta \\tau) = e^{-\\delta \\tau H} = e^{-\\delta \\tau \\sum_i H_i} = \\prod_i e^{-\\delta \\tau H_i}\n",
    "$$\n",
    "\n",
    "The update algorithm is implemented in the `quimb` library. We can use it to find the ground state energy of a given hamiltonian. Let's try it out on a simple hamiltonian:\n",
    "$$\n",
    "H = \\sigma^z_1 \\sigma^z_2 + \\sigma^z_2 \\sigma^z_3 + \\sigma^z_3 \\sigma^z_4\n",
    "$$\n",
    "The ground state energy is $E_0 = -3$ and the ground state is $\\ket{\\psi_0} = \\ket{0101}$."
   ]
  },
  {
   "cell_type": "code",
   "execution_count": 4,
   "metadata": {},
   "outputs": [
    {
     "data": {
      "image/png": "[encoded data removed]",
      "text/plain": [
       "<Figure size 200x200 with 1 Axes>"
      ]
     },
     "metadata": {},
     "output_type": "display_data"
    },
    {
     "data": {
      "image/png": "[encoded data removed]",
      "text/plain": [
       "<Figure size 200x200 with 1 Axes>"
      ]
     },
     "metadata": {},
     "output_type": "display_data"
    }
   ],
   "source": [
    "H1 = qu.ham_heis(n=3, j=(1, 1, 1), sparse=False).astype(complex)\n",
    "H2 = parse_hamiltonian('0.25*(ZZI + IZZ + XXI + IXX + YYI + IYY)')\n",
    "np.allclose(H1, H2)\n",
    "imshow(H2, figsize=(2,2))\n",
    "\n",
    "H1 = qu.ham_heis(n=3, j=(0, 0, 1), b=(-1, 0, 0), sparse=False).astype(complex)\n",
    "H2 = parse_hamiltonian('0.25*(ZZI + IZZ) + 0.5*(XII + IXI + IIX)')\n",
    "np.allclose(H1, H2)\n",
    "imshow(H2, figsize=(2,2))"
   ]
  },
  {
   "cell_type": "code",
   "execution_count": 189,
   "metadata": {},
   "outputs": [],
   "source": [
    "def ising_model_graph(graph, J=(-1,1), h=(-1,1), g=(-1,1)):\n",
    "    \"\"\" Takes a graph and generates a Hamiltonian string for it that is compatible with `parse_hamiltonian`. \"\"\"\n",
    "    if not isinstance(graph, nk.graph.Graph):\n",
    "        raise ValueError(f\"graph must be a nk.graph.Graph, but is {type(graph)}\")\n",
    "    \n",
    "    # get the number of qubits\n",
    "    n_qubits = graph.n_nodes\n",
    "    # get the edges\n",
    "    edges = graph.edges()\n",
    "    # get the coupling matrix\n",
    "    J = np.array(J)\n",
    "    if J.shape == ():\n",
    "        # triangular matrix with all couplings set to J\n",
    "        J = np.triu(np.ones((n_qubits, n_qubits)), k=1) * J\n",
    "    elif J.shape == (2,):\n",
    "        # triangular matrix with all couplings set to a random value in this range\n",
    "        J = np.triu(np.random.uniform(J[0], J[1], (n_qubits, n_qubits)), k=1)\n",
    "    elif J.shape == (n_qubits, n_qubits):\n",
    "        # use the given matrix\n",
    "        pass\n",
    "    else:\n",
    "        raise ValueError(f\"J must be a scalar, 2-element vector, or matrix of shape {(n_qubits, n_qubits)}, but is {J.shape}\")\n",
    "    \n",
    "    # get the longitudinal fields\n",
    "    if h is not None:\n",
    "        h = np.array(h)\n",
    "        if h.shape == ():\n",
    "            h = np.ones(n_qubits) * h\n",
    "        elif h.shape == (2,):\n",
    "            h = np.random.uniform(h[0], h[1], n_qubits)\n",
    "        elif h.shape == (n_qubits,):\n",
    "            pass\n",
    "        else:\n",
    "            raise ValueError(f\"h must be a scalar, 2-element vector, or vector of shape {(n_qubits,)}, but is {h.shape}\")\n",
    "        \n",
    "    # get the transverse fields\n",
    "    if g is not None:\n",
    "        g = np.array(g)\n",
    "        if g.shape == ():\n",
    "            g = np.ones(n_qubits) * g\n",
    "        elif g.shape == (2,):\n",
    "            g = np.random.uniform(g[0], g[1], n_qubits)\n",
    "        elif g.shape == (n_qubits,):\n",
    "            pass\n",
    "        else:\n",
    "            raise ValueError(f\"g must be a scalar, 2-element vector, or vector of shape {(n_qubits,)}, but is {g.shape}\")\n",
    "        \n",
    "    # generate the Hamiltonian\n",
    "    H_str = ''\n",
    "    # pairwise interactions\n",
    "    for i, j in edges:\n",
    "        assert i < j, f\"edges must be sorted, but ({i}, {j}) is not\"\n",
    "        if J[i,j] != 0:\n",
    "            H_str += str(J[i,j]) + '*' + 'I'*i + 'Z' + 'I'*(j-i-1) + 'Z' + 'I'*(n_qubits-j-1) + ' + '\n",
    "    # local longitudinal fields\n",
    "    if np.any(h):\n",
    "        H_str += ' + '.join([str(h[i]) + '*' + 'I'*i + 'Z' + 'I'*(n_qubits-i-1) for i in range(n_qubits) if h[i] != 0]) + ' + '\n",
    "    # local transverse fields\n",
    "    if np.any(g):\n",
    "        H_str += ' + '.join([str(g[i]) + '*' + 'I'*i + 'X' + 'I'*(n_qubits-i-1) for i in range(n_qubits) if g[i] != 0]) + ' + '\n",
    "\n",
    "    # remove trailing ' + '\n",
    "    H_str = H_str[:-3]\n",
    "\n",
    "    return H_str\n",
    "\n",
    "def edges_from_graph(graph, undirected=False):\n",
    "    edges = graph.edges()\n",
    "    edges = np.array(edges).T\n",
    "    if undirected:\n",
    "        edges = np.concatenate([edges, edges[:,::-1]], axis=0)\n",
    "    edges = np.unique(edges, axis=0)  # sorts the edges\n",
    "    return edges[0], edges[1]\n",
    "\n",
    "def random_ising_own(N: int, graph: nk.graph.Grid):\n",
    "    \"\"\" Generates N random ising models on the given graph. \"\"\"\n",
    "    n = graph.n_nodes\n",
    "    J = np.random.uniform(-1, 1, size=(N, n, n))\n",
    "    # # make sure each J is symmetric\n",
    "    # for i in range(N):\n",
    "    #     J[i] = (J[i] + J[i].T)/2\n",
    "    #     # make sure the diagonal is zero\n",
    "    #     J[i] -= np.diag(np.diag(J[i]))\n",
    "    h = np.random.uniform(-1, 1, size=(N, n))\n",
    "    g = np.random.uniform(-1, 1, size=(N, n))\n",
    "\n",
    "    # get the edges for the coupling matrix\n",
    "    edges = edges_from_graph(graph)\n",
    "\n",
    "    hamiltonians = []\n",
    "    for i in range(N):\n",
    "        H_ising_str = ising_model_graph(graph, J[i], h[i], g[i])\n",
    "\n",
    "        # create the coupling matrix\n",
    "        J_i = np.zeros((n, n))\n",
    "        J_i[edges] = J[i][edges]\n",
    "        # convert to triu list\n",
    "        # J_i = J_i[np.triu_indices(n, k=1)]\n",
    "    \n",
    "        hamiltonians.append((H_ising_str, graph.extent, {\"J\": J_i, \"h\": h[i], \"g\": g[i]}))\n",
    "\n",
    "    return hamiltonians\n",
    "\n",
    "def random_ising_nk(N: int, graph: nk.graph.Grid):\n",
    "    J = np.random.uniform(-1, 1, size=N) # Coupling constant\n",
    "    g = np.random.uniform(-1, 1, size=N) # Transverse field\n",
    "    # J = 10*np.ones(N) # Coupling constant\n",
    "    # g = -5*np.ones(N) # Transverse field\n",
    "    n = graph.n_nodes\n",
    "    edges = edges_from_graph(graph)\n",
    "    hilbert = nk.hilbert.Spin(s=0.5, N=n)\n",
    "    h = np.zeros(n)\n",
    "    n_ones = np.ones(n)\n",
    "\n",
    "    hamiltonians = []\n",
    "    for i in range(N):\n",
    "        ising = nk.operator.Ising(\n",
    "            hilbert=hilbert,\n",
    "            graph=graph,\n",
    "            J=J[i], h=g[i]\n",
    "        )\n",
    "\n",
    "        # Convert hyperparameters to the right format\n",
    "        J_i = np.zeros((n, n))\n",
    "        J_i[edges] = J[i]\n",
    "        # convert to triu list\n",
    "        # J_i = J_i[np.triu_indices(n, k=1)]\n",
    "    \n",
    "        hamiltonians.append((ising, graph.extent, {\"J\": J_i, \"h\": h, \"g\": g[i]*n_ones}))\n",
    "    return hamiltonians"
   ]
  },
  {
   "cell_type": "code",
   "execution_count": 233,
   "metadata": {},
   "outputs": [
    {
     "name": "stdout",
     "output_type": "stream",
     "text": [
      "Exact ground state energy: -0.432353\n"
     ]
    },
    {
     "name": "stderr",
     "output_type": "stream",
     "text": [
      "\n",
      "\n"
     ]
    },
    {
     "name": "stdout",
     "output_type": "stream",
     "text": [
      "Approximated ground state energy: -0.365414\n"
     ]
    },
    {
     "name": "stderr",
     "output_type": "stream",
     "text": [
      "\n"
     ]
    },
    {
     "data": {
      "text/plain": [
       "{'energy': -0.3654143575964271,\n",
       " 'state': PEPS(tensors=6, indices=13, Lx=2, Ly=3, max_bond=4),\n",
       " 'it': 150}"
      ]
     },
     "execution_count": 233,
     "metadata": {},
     "output_type": "execute_result"
    }
   ],
   "source": [
    "n = (2,3)\n",
    "graph = nk.graph.Grid(n, pbc=True)\n",
    "\n",
    "def pos(n):\n",
    "    x,y = graph.positions[n]\n",
    "    return int(x), int(y)\n",
    "\n",
    "H, _, hyp = random_ising_nk(1, graph)[0]\n",
    "# construct local hamiltonians using qu.ham_heis(2, j=(0, 0, J_ab)) and qu.ham_heis(1, b=(h_a, 0, g_a))\n",
    "local_two_site_hamiltonians = {}  # dict for qtn.LocalHam2D H2\n",
    "for a,b in graph.edges():\n",
    "    J_ab = hyp['J'][a,b]\n",
    "    local_two_site_hamiltonians[pos(a),pos(b)] = qu.ham_heis(2, j=(0, 0, -J_ab))\n",
    "\n",
    "local_one_site_hamiltonians = {}  # dict for qtn.LocalHam2D H1\n",
    "for a in graph.nodes():\n",
    "    h_a = hyp['h'][a]\n",
    "    g_a = hyp['g'][a]\n",
    "    local_one_site_hamiltonians[pos(a)] = qu.ham_heis(1, b=(g_a, 0, h_a))\n",
    "\n",
    "if type(H) == str:\n",
    "    ham_full = parse_hamiltonian(H, sparse=True, dtype=float)\n",
    "else:\n",
    "    ham_full = H.to_sparse()\n",
    "\n",
    "# ham_full = qu.ham_heis_2D(*n)\n",
    "# ham_local = qtn.LocalHam2D(*n, H2=qu.ham_heis(2))\n",
    "\n",
    "ham_local = qtn.LocalHam2D(*n, H2=local_two_site_hamiltonians, H1=local_one_site_hamiltonians)\n",
    "# set ordering\n",
    "ham_local.ordering = 'raster'\n",
    "\n",
    "energy_exact = qu.groundenergy(ham_full) / (2*np.prod(n))\n",
    "print(f'Exact ground state energy: {energy_exact:.6f}')\n",
    "\n",
    "psi0 = qtn.PEPS.rand(*n, bond_dim=4)\n",
    "su = qtn.SimpleUpdate(\n",
    "    psi0 = psi0,\n",
    "    ham = ham_local,\n",
    "    chi = 8,\n",
    "    compute_energy_every = None,\n",
    "    compute_energy_per_site = True,\n",
    "    keep_best = True,\n",
    "    progbar = True\n",
    ")\n",
    "for tau in [0.3, 0.1, 0.03]:\n",
    "    su.evolve(50, tau=tau)\n",
    "print(f'Approximated ground state energy: {su.best[\"energy\"]:.6f}')\n",
    "\n",
    "# # Continue with Full Update -> this doesn't improve the result at all, but it's really slow\n",
    "# fu = qtn.FullUpdate(\n",
    "#     psi0 = su.best['state'].copy(),\n",
    "#     ham = ham_local,\n",
    "#     chi = 8,\n",
    "#     compute_energy_every = None,\n",
    "#     compute_energy_per_site = True,\n",
    "#     keep_best = True,\n",
    "#     progbar = True\n",
    "# )\n",
    "# for tau in [0.3, 0.1, 0.03]:\n",
    "#     fu.evolve(50, tau=tau)\n",
    "#     print(f'Approximated ground state energy: {fu.best[\"energy\"]:.6f}')\n",
    "\n",
    "# plt.plot(su.its, su.energies, color='green')\n",
    "# plt.axhline(energy_exact, color='black')\n",
    "# plt.title('Simple Update Convergence')\n",
    "# plt.ylabel('Energy')\n",
    "# plt.xlabel('Iteration')\n",
    "\n",
    "su.best"
   ]
  },
  {
   "cell_type": "markdown",
   "metadata": {},
   "source": [
    "This needs way too long"
   ]
  }
 ],
 "metadata": {
  "kernelspec": {
   "display_name": "Python 3",
   "language": "python",
   "name": "python3"
  },
  "language_info": {
   "codemirror_mode": {
    "name": "ipython",
    "version": 3
   },
   "file_extension": ".py",
   "mimetype": "text/x-python",
   "name": "python",
   "nbconvert_exporter": "python",
   "pygments_lexer": "ipython3",
   "version": "3.11.5"
  },
  "orig_nbformat": 4
 },
 "nbformat": 4,
 "nbformat_minor": 2
}
