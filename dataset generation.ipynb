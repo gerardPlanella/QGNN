{
 "cells": [
  {
   "cell_type": "code",
   "execution_count": 1,
   "metadata": {},
   "outputs": [],
   "source": [
    "import os, sys, psutil\n",
    "\n",
    "import netket as nk\n",
    "import numpy as np\n",
    "import matplotlib.pyplot as plt\n",
    "import scipy.sparse as sp\n",
    "\n",
    "from tqdm.notebook import tqdm as tq\n",
    "import itertools\n",
    "\n",
    "from IPython.display import clear_output\n",
    "import warnings; warnings.simplefilter('ignore')"
   ]
  },
  {
   "cell_type": "markdown",
   "metadata": {},
   "source": [
    "# Helper functions"
   ]
  },
  {
   "cell_type": "code",
   "execution_count": 2,
   "metadata": {},
   "outputs": [],
   "source": [
    "def mapp(func, *iterables, cb=None, **kwargs):\n",
    "    \"\"\"map function that uses tq for progress bar\"\"\"\n",
    "    for i in tq(range(len(iterables[0]))):\n",
    "        res = func(*[iterable[i] for iterable in iterables], **kwargs)\n",
    "        if cb is not None:\n",
    "            cb(res)\n",
    "        yield res\n",
    "\n",
    "def imshow(a, figsize=(8,6), cmap='seismic', **pltargs):\n",
    "    \"\"\"Uses magic to create pretty images from arrays.\"\"\"\n",
    "\n",
    "    if sp.issparse(a):\n",
    "        a = a.todense()\n",
    "    else:\n",
    "        a = np.array(a, copy=False)\n",
    "    if np.prod(a.shape) == np.max(a.shape):\n",
    "        a = a.flatten()\n",
    "    fig = plt.figure(figsize=figsize)\n",
    "    cmap = plt.get_cmap(cmap)\n",
    "    if 'vmin' not in pltargs and 'vmax' not in pltargs:\n",
    "        vmax = np.max(np.abs(a))\n",
    "        vmin = -vmax\n",
    "    plt.imshow(a, cmap=cmap, vmin=vmin, vmax=vmax, **pltargs)\n",
    "    plt.colorbar()\n",
    "\n",
    "def hist(data, bins=None, xlabel=\"\", title=\"\", density=False):\n",
    "    def bins_sqrt(data):\n",
    "        return int(np.ceil(np.sqrt(len(data))))\n",
    "\n",
    "    plt.figure(figsize=(10,5))\n",
    "\n",
    "    # bins\n",
    "    if not bins:\n",
    "        bins = bins_sqrt(data)\n",
    "    n, bins, _ = plt.hist(data, bins=bins, density=density)\n",
    "\n",
    "    # visuals\n",
    "    plt.title(title)\n",
    "    plt.ylabel(\"Density\" if density else \"Frequency\")\n",
    "    plt.xlabel(xlabel)\n",
    "    plt.gca().spines[\"top\"].set_visible(False)\n",
    "    plt.gca().spines[\"right\"].set_visible(False)\n",
    "    plt.gca().spines[\"bottom\"].set_visible(False)\n",
    "    return n, bins\n",
    "\n",
    "def scatter1d(data, xticks=None, alpha=.5, s=500, marker=\"|\", xlim=None, title=\"\", **pltargs):\n",
    "    \"\"\"Create only one axis on which to plot the data.\"\"\"\n",
    "\n",
    "    fig = plt.figure(figsize=(10,1))\n",
    "    ax = fig.gca()\n",
    "    size = np.array(data, copy=False).flatten().shape\n",
    "    plt.scatter(data, np.zeros(*size), alpha=alpha, marker=marker, s=s, **pltargs)\n",
    "    ax.spines[\"top\"].set_visible(False)\n",
    "    ax.spines[\"right\"].set_visible(False)\n",
    "    ax.spines[\"left\"].set_visible(False)\n",
    "    ax.set_yticks([])\n",
    "    if xticks:\n",
    "        ax.set_xticks(xticks)\n",
    "    if title:\n",
    "        ax.set_title(title)\n",
    "    if xlim is not None:\n",
    "        ax.set_xlim(xlim)\n",
    "    fig.tight_layout()\n",
    "    plt.show()\n",
    "\n",
    "def duh(n, precision=2):\n",
    "    \"\"\" Takes a number of bytes and returns a human-readable string with the\n",
    "    size in bytes, kilobytes, megabytes, or gigabytes.\n",
    "\n",
    "    Parameters\n",
    "        n (int): The number of bytes\n",
    "        precision (int): The number of decimals to use\n",
    "    \"\"\"\n",
    "    for unit in ['B','KB','MB','GB','TB','PB','EB','ZB']:\n",
    "        if n < 1024.0:\n",
    "            break\n",
    "        n /= 1024.0\n",
    "    decimals = precision - int(n > 99) - int(n > 9) - int(n > 0)\n",
    "    if decimals < 0 or unit == 'B':\n",
    "        decimals = 0\n",
    "    return f\"{n:.{decimals}f} {unit}\"\n",
    "\n",
    "def ising_model(n_qubits, J, h=None, g=None, offset=0, kind='1d', circular=False):\n",
    "    \"\"\"\n",
    "    Generates an Ising model with (optional) longitudinal and (optional) transverse couplings.\n",
    "\n",
    "    Parameters\n",
    "    ----------\n",
    "    n_qubits : int or tuple\n",
    "        Number of qubits, at least 2. For `kind='2d'` or `kind='3d'`, give a tuple of 2 or 3 integers, respectively.\n",
    "    J : float, array, or dict\n",
    "        Coupling strength. If a scalar, all couplings are set to this value.\n",
    "        If a 2-element vector but `n_qubit > 2` (or tuple), all couplings are set to a random value in this range.\n",
    "        If a matrix, this matrix is used as the coupling matrix.\n",
    "        For `kind='pairwise'`, `kind='2d'`, or `kind='3d'`, `J` is read as an incidence matrix, where the rows and columns correspond to the qubits and the values are the coupling strengths. Only the upper triangular part of the matrix is used.\n",
    "        For `kind='full'`, specify a dictionary with keys being tuples of qubit indices and values being the corresponding coupling strength.\n",
    "    h : float or array, optional\n",
    "        Longitudinal field strength. If a scalar, all fields are set to this value.\n",
    "        If a 2-element vector, all fields are set to a random value in this range.\n",
    "        If a vector of size `n_qubits`, its elements specify the individual strengths of the longitudinal field.\n",
    "    g : float or array, optional\n",
    "        Transverse field strength. If a scalar, all couplings are set to this value.\n",
    "        If a 2-element vector, all couplings are set to a random value in this range.\n",
    "        If a vector of size `n_qubits`, its elements specify the individual strengths of the transverse field.\n",
    "    offset : float, optional\n",
    "        Offset of the Hamiltonian.\n",
    "    kind : {'1d', '2d', '3d', 'pairwise', 'full'}, optional\n",
    "        Whether the couplings are along a string (`1d`), on a 2d-lattice (`2d`), 3d-lattice (`3d`), fully connected graph (`pairwise`), or specify the desired multi-particle interactions.\n",
    "    circular : bool, optional\n",
    "        Whether the couplings are circular (i.e. the outermost qubits are coupled to each other). Only applies to `kind='1d'`, `kind='2d'`, and `kind='3d'`.\n",
    "\n",
    "    Returns\n",
    "    -------\n",
    "    H : str\n",
    "        The Hamiltonian as a string, which can be parsed by parse_hamiltonian.\n",
    "    \"\"\"\n",
    "\n",
    "    # generate the coupling shape\n",
    "    n_total_qubits = np.prod(n_qubits)\n",
    "    assert n_total_qubits - int(n_total_qubits) == 0, \"n_qubits must be an integer or a tuple of integers\"\n",
    "    if kind == '1d':\n",
    "        assert np.isscalar(n_qubits) or len(n_qubits) == 1, f\"For kind={kind}, n_qubits must be an integer or tuple of length 1, but is {n_qubits}\"\n",
    "        # convert to int if tuple (has attr __len__)\n",
    "        if hasattr(n_qubits, '__len__'):\n",
    "            n_qubits = n_qubits[0]\n",
    "        couplings = (n_qubits if circular and n_qubits > 2 else n_qubits-1,)\n",
    "    elif kind == '2d':\n",
    "        if np.isscalar(n_qubits) or len(n_qubits) == 1:\n",
    "            raise ValueError(f\"For kind={kind}, n_qubits must be a tuple of length 2, but is {n_qubits}\")\n",
    "        couplings = (n_total_qubits, n_total_qubits)\n",
    "    elif kind == '3d':\n",
    "        if np.isscalar(n_qubits) or len(n_qubits) == 2:\n",
    "            raise ValueError(f\"For kind={kind}, n_qubits must be a tuple of length 3, but is {n_qubits}\")\n",
    "        couplings = (n_total_qubits, n_total_qubits)\n",
    "    elif kind == 'pairwise':\n",
    "        assert type(n_qubits) == int, f\"For kind={kind}, n_qubits must be an integer, but is {n_qubits}\"\n",
    "        couplings = (n_qubits, n_qubits)\n",
    "    elif kind == 'full':\n",
    "        assert type(n_qubits) == int, f\"For kind={kind}, n_qubits must be an integer, but is {n_qubits}\"\n",
    "        couplings = (2**n_qubits,)\n",
    "    else:\n",
    "        raise ValueError(f\"Unknown kind {kind}\")\n",
    "\n",
    "    # if J is not scalar or dict, it must be either the array of the couplings or the limits of the random range\n",
    "    if not (np.isscalar(J) or isinstance(J, dict)):\n",
    "        J = np.array(J)\n",
    "        if J.shape == (2,):\n",
    "            J = np.random.uniform(J[0], J[1], couplings)\n",
    "        if kind == '1d' and J.shape == (n_qubits, n_qubits):\n",
    "            # get the offset k=1 diagonal (n_quibits-1 elements)\n",
    "            idxs = np.where(np.eye(n_qubits, k=1))\n",
    "            if circular:\n",
    "                # add the edge element\n",
    "                idxs = (np.append(idxs[0], 0), np.append(idxs[1], n_qubits-1))\n",
    "            J = J[idxs]\n",
    "        assert J.shape == couplings, f\"For kind={kind}, J must be a scalar, 2-element vector, or matrix of shape {couplings}, but is {J.shape}\"\n",
    "    elif isinstance(J, dict) and kind != 'full':\n",
    "        raise ValueError(f\"For kind={kind}, J must not be a dict!\")\n",
    "\n",
    "    if h is not None:\n",
    "        if n_total_qubits != 2 and hasattr(h, '__len__') and len(h) == 2:\n",
    "            h = np.random.uniform(low=h[0], high=h[1], size=n_total_qubits)\n",
    "        elif not np.isscalar(h):\n",
    "            h = np.array(h)\n",
    "        assert np.isscalar(h) or h.shape == (n_total_qubits,), f\"h must be a scalar, 2-element vector, or vector of shape {(n_total_qubits,)}, but is {h.shape if not np.isscalar(h) else h}\"\n",
    "    if g is not None:\n",
    "        if n_total_qubits != 2 and hasattr(g, '__len__') and len(g) == 2:\n",
    "            g = np.random.uniform(low=g[0], high=g[1], size=n_total_qubits)\n",
    "        elif not np.isscalar(g):\n",
    "            g = np.array(g)\n",
    "        assert np.isscalar(g) or g.shape == (n_total_qubits,), f\"g must be a scalar, 2-element vector, or vector of shape {(n_total_qubits,)}, but is {g.shape if not np.isscalar(g) else g}\"\n",
    "\n",
    "    # generate the Hamiltonian\n",
    "    H_str = ''\n",
    "    # pairwise interactions\n",
    "    if kind == '1d':\n",
    "        if np.isscalar(J):\n",
    "            for i in range(n_qubits-1):\n",
    "                H_str += 'I'*i + 'ZZ' + 'I'*(n_qubits-i-2) + ' + '\n",
    "            # last and first qubit\n",
    "            if circular:\n",
    "                H_str += 'Z' + 'I'*(n_qubits-2) + 'Z' + ' + '\n",
    "        else:\n",
    "            for i in range(n_qubits-1):\n",
    "                if J[i] != 0:\n",
    "                    H_str += str(J[i]) + '*' + 'I'*i + 'ZZ' + 'I'*(n_qubits-i-2) + ' + '\n",
    "            # last and first qubit\n",
    "            if circular and J[n_qubits-1] != 0:\n",
    "                H_str += str(J[n_qubits-1]) + '*' + 'Z' + 'I'*(n_qubits-2) + 'Z' + ' + '\n",
    "    elif kind == '2d':\n",
    "        for i in range(n_qubits[0]):\n",
    "            for j in range(n_qubits[1]):\n",
    "                # find all 2d neighbors, but avoid double counting\n",
    "                neighbors = []\n",
    "                if i > 0:\n",
    "                    neighbors.append((i-1, j))\n",
    "                if i < n_qubits[0]-1:\n",
    "                    neighbors.append((i+1, j))\n",
    "                if j > 0:\n",
    "                    neighbors.append((i, j-1))\n",
    "                if j < n_qubits[1]-1:\n",
    "                    neighbors.append((i, j+1))\n",
    "                if circular:\n",
    "                    if i == n_qubits[0]-1 and n_qubits[0] > 2:\n",
    "                        neighbors.append((0, j))\n",
    "                    if j == n_qubits[1]-1 and n_qubits[1] > 2:\n",
    "                        neighbors.append((i, 0))\n",
    "                # add interactions\n",
    "                index_node = i*n_qubits[1] + j\n",
    "                for neighbor in neighbors:\n",
    "                    # 1. lower row\n",
    "                    # 2. same row, but further to the right or row circular (= first column and j is last column)\n",
    "                    # 3. same column, but column circular (= first row and i is last row)\n",
    "                    if neighbor[0] > i \\\n",
    "                        or (neighbor[0] == i and (neighbor[1] > j or (j == n_qubits[1]-1 and neighbor[1] == 0 and n_qubits[1] > 2))) \\\n",
    "                        or (neighbor[1] == j and i == n_qubits[0]-1 and neighbor[0] == 0 and n_qubits[0] > 2):\n",
    "                        index_neighbor = neighbor[0]*n_qubits[1] + neighbor[1]\n",
    "                        first_index = min(index_node, index_neighbor)\n",
    "                        second_index = max(index_node, index_neighbor)\n",
    "                        if not np.isscalar(J):\n",
    "                            if J[first_index, second_index] == 0:\n",
    "                                continue\n",
    "                            H_str += str(J[first_index, second_index]) + '*'\n",
    "                        H_str += 'I'*first_index + 'Z' + 'I'*(second_index-first_index-1) + 'Z' + 'I'*(n_qubits[0]*n_qubits[1]-second_index-1) + ' + '\n",
    "    elif kind == '3d':\n",
    "        for i in range(n_qubits[0]):\n",
    "            for j in range(n_qubits[1]):\n",
    "                for k in range(n_qubits[2]):\n",
    "                    # find all 3d neighbors, but avoid double counting\n",
    "                    neighbors = []\n",
    "                    if i > 0:\n",
    "                        neighbors.append((i-1, j, k))\n",
    "                    if i < n_qubits[0]-1:\n",
    "                        neighbors.append((i+1, j, k))\n",
    "                    if j > 0:\n",
    "                        neighbors.append((i, j-1, k))\n",
    "                    if j < n_qubits[1]-1:\n",
    "                        neighbors.append((i, j+1, k))\n",
    "                    if k > 0:\n",
    "                        neighbors.append((i, j, k-1))\n",
    "                    if k < n_qubits[2]-1:\n",
    "                        neighbors.append((i, j, k+1))\n",
    "                    if circular:\n",
    "                        if i == n_qubits[0]-1 and n_qubits[0] > 2:\n",
    "                            neighbors.append((0, j, k))\n",
    "                        if j == n_qubits[1]-1 and n_qubits[1] > 2:\n",
    "                            neighbors.append((i, 0, k))\n",
    "                        if k == n_qubits[2]-1 and n_qubits[2] > 2:\n",
    "                            neighbors.append((i, j, 0))\n",
    "                    # add interactions\n",
    "                    index_node = i*n_qubits[1]*n_qubits[2] + j*n_qubits[2] + k\n",
    "                    for neighbor in neighbors:\n",
    "                        # 1. lower row\n",
    "                        # 2. same row, but\n",
    "                            # a. same layer, but further to the right or row circular (= first column and j is last column)\n",
    "                            # b. same column, but further behind or layer circular (= first layer and k is last layer)\n",
    "                        # 3. same column and same layer, but column circular (= first row and i is last row)\n",
    "                        if neighbor[0] > i \\\n",
    "                            or (neighbor[0] == i and (\\\n",
    "                                (neighbor[2] == k and (neighbor[1] > j or (j == n_qubits[1]-1 and neighbor[1] == 0 and n_qubits[1] > 2))) \\\n",
    "                                or (neighbor[1] == j and (neighbor[2] > k or (k == n_qubits[2]-1 and neighbor[2] == 0 and n_qubits[2] > 2))) \\\n",
    "                            )) \\\n",
    "                            or (neighbor[1] == j and neighbor[2] == k and i == n_qubits[0]-1 and neighbor[0] == 0 and n_qubits[0] > 2):\n",
    "                            index_neighbor = neighbor[0]*n_qubits[1]*n_qubits[2] + neighbor[1]*n_qubits[2] + neighbor[2]\n",
    "                            first_index = min(index_node, index_neighbor)\n",
    "                            second_index = max(index_node, index_neighbor)\n",
    "                            if not np.isscalar(J):\n",
    "                                if J[first_index, second_index] == 0:\n",
    "                                    continue\n",
    "                                H_str += str(J[first_index, second_index]) + '*' \n",
    "                            H_str += 'I'*first_index + 'Z' + 'I'*(second_index-first_index-1) + 'Z' + 'I'*(n_qubits[0]*n_qubits[1]*n_qubits[2]-second_index-1) + ' + '\n",
    "    elif kind == 'pairwise':\n",
    "        for i in range(n_qubits):\n",
    "            for j in range(i+1, n_qubits):\n",
    "                if not np.isscalar(J):\n",
    "                    if J[i,j] == 0:\n",
    "                        continue\n",
    "                    H_str += str(J[i,j]) + '*'\n",
    "                H_str += 'I'*i + 'Z' + 'I'*(j-i-1) + 'Z' + 'I'*(n_qubits-j-1) + ' + '\n",
    "    elif kind == 'full':\n",
    "        if np.isscalar(J):\n",
    "            if n_qubits > 20:\n",
    "                raise ValueError(\"Printing out all interactions for n_qubits > 20 is not recommended. Please use a dict instead.\")\n",
    "            for i in range(2, n_qubits+1):\n",
    "                for membership in itertools.combinations(range(n_qubits), i):\n",
    "                    H_str += ''.join(['Z' if j in membership else 'I' for j in range(n_qubits)]) + ' + '\n",
    "        else: # J is a dict of tuples of qubit indices to interaction strengths\n",
    "            for membership, strength in J.items():\n",
    "                if strength == 0:\n",
    "                    continue\n",
    "                H_str += str(strength) + '*' + ''.join(['Z' if j in membership else 'I' for j in range(n_qubits)]) + ' + '\n",
    "    else:\n",
    "        raise ValueError(f\"Unknown kind {kind}\")\n",
    "\n",
    "    if np.isscalar(J) and J != 0 and n_total_qubits > 1:\n",
    "        H_str = str(J) + '*(' + H_str[:-3] + ') + '\n",
    "\n",
    "    # local longitudinal fields\n",
    "    if np.any(h):\n",
    "        if np.isscalar(h):\n",
    "            H_str += str(h) + '*(' + ' + '.join(['I'*i + 'Z' + 'I'*(n_total_qubits-i-1) for i in range(n_total_qubits)]) + ') + '\n",
    "        else:\n",
    "            H_str += ' + '.join([str(h[i]) + '*' + 'I'*i + 'Z' + 'I'*(n_total_qubits-i-1) for i in range(n_total_qubits) if h[i] != 0]) + ' + '\n",
    "    # local transverse fields\n",
    "    if np.any(g):\n",
    "        if np.isscalar(g):\n",
    "            H_str += str(g) + '*(' + ' + '.join(['I'*i + 'X' + 'I'*(n_total_qubits-i-1) for i in range(n_total_qubits)]) + ') + '\n",
    "        else:\n",
    "            H_str += ' + '.join([str(g[i]) + '*' + 'I'*i + 'X' + 'I'*(n_total_qubits-i-1) for i in range(n_total_qubits) if g[i] != 0]) + ' + '\n",
    "    # offset\n",
    "    if np.any(offset):\n",
    "        H_str += str(offset)\n",
    "    else:\n",
    "        H_str = H_str[:-3]\n",
    "    return H_str\n",
    "\n",
    "def parse_hamiltonian(hamiltonian, sparse=False):\n",
    "    \"\"\"Parse a string representation of a Hamiltonian into a matrix representation. The result is guaranteed to be Hermitian.\n",
    "\n",
    "    Example:\n",
    "    >>> parse_hamiltonian('0.5*(XX + YY + ZZ + II)') # SWAP\n",
    "    array([[ 1.+0.j  0.+0.j  0.+0.j  0.+0.j]\n",
    "           [ 0.+0.j  0.+0.j  1.+0.j  0.+0.j]\n",
    "           [ 0.+0.j  1.+0.j  0.+0.j  0.+0.j]\n",
    "           [ 0.+0.j  0.+0.j  0.+0.j  1.+0.j]])\n",
    "    >>> parse_hamiltonian('-(XX + YY + .5*ZZ) + 1.5')\n",
    "    array([[ 1.+0.j  0.+0.j  0.+0.j  0.+0.j]\n",
    "           [ 0.+0.j  2.+0.j -2.+0.j  0.+0.j]\n",
    "           [ 0.+0.j -2.+0.j  2.+0.j  0.+0.j]\n",
    "           [ 0.+0.j  0.+0.j  0.+0.j  1.+0.j]])\n",
    "    >>> parse_hamiltonian('0.5*(II + ZI - ZX + IX)') # CNOT\n",
    "\n",
    "    \"\"\"\n",
    "    def s(gate):\n",
    "        if gate == \"H\":\n",
    "            gate_matrix = 1/np.sqrt(2) * np.array([[1, 1], [1, -1]])\n",
    "        elif gate == \"X\":\n",
    "            gate_matrix = np.array([[0, 1], [1, 0]])\n",
    "        elif gate == \"Y\":\n",
    "            gate_matrix = np.array([[0, -1j], [1j, 0]])\n",
    "        elif gate == \"Z\":\n",
    "            gate_matrix = np.array([[1, 0], [0, -1]])\n",
    "        elif gate == \"I\":\n",
    "            gate_matrix = np.eye(2)\n",
    "        else:\n",
    "            raise ValueError(f\"Unknown gate {gate}\")\n",
    "        return gate_matrix if not sparse else sp.bsr_array(gate_matrix)\n",
    "\n",
    "    # Remove whitespace\n",
    "    hamiltonian = hamiltonian.replace(\" \", \"\")\n",
    "    # replace - with +-, except before e\n",
    "    hamiltonian = hamiltonian \\\n",
    "                    .replace(\"-\", \"+-\") \\\n",
    "                    .replace(\"e+-\", \"e-\") \\\n",
    "                    .replace(\"(+-\", \"(-\")\n",
    "\n",
    "    # Find parts in parentheses\n",
    "    part = \"\"\n",
    "    parts = []\n",
    "    depth = 0\n",
    "    for c in hamiltonian:\n",
    "        if c == \"(\":\n",
    "            depth += 1\n",
    "        elif c == \")\":\n",
    "            depth -= 1\n",
    "        if depth > 0:\n",
    "            part += c\n",
    "        if depth == 0 and c == \")\":\n",
    "            part += c\n",
    "            # reject parts with complex numbers\n",
    "            try:\n",
    "                assert complex(part).imag == 0, \"Complex coefficients lead to non-hermitian matrices\"\n",
    "            except ValueError:\n",
    "                pass\n",
    "            parts.append(part)\n",
    "            part = \"\"\n",
    "\n",
    "    # Replace parts in parentheses with a placeholder\n",
    "    for i, part in enumerate(parts):\n",
    "        hamiltonian = hamiltonian.replace(part, f\"part{i}\", 1)\n",
    "        # Calculate the part recursively\n",
    "        parts[i] = parse_hamiltonian(part[1:-1], sparse=sparse)\n",
    "\n",
    "    # Parse the rest of the Hamiltonian\n",
    "    chunks = hamiltonian.split(\"+\")\n",
    "    # Remove empty chunks\n",
    "    chunks = [c for c in chunks if c != \"\"]\n",
    "    # If parts are present, use them to determine the number of qubits\n",
    "    if parts:\n",
    "        n = int(np.log2(parts[0].shape[0]))\n",
    "    else: # Use the first chunk to determine the number of qubits\n",
    "        first_chunk = chunks[0]\n",
    "        if first_chunk[0] in [\"-\", \"+\"]:\n",
    "            first_chunk = first_chunk[1:]\n",
    "        try:\n",
    "            n = len(first_chunk.split(\"*\")[1])\n",
    "        except IndexError:\n",
    "            n = len(first_chunk)\n",
    "\n",
    "    if sparse:\n",
    "        H = sp.bsr_array((2**n, 2**n), dtype=complex)\n",
    "    else:\n",
    "        H = np.zeros((2**n, 2**n), dtype=complex)\n",
    "    for chunk in chunks:\n",
    "\n",
    "        # print(chunk, hamiltonian)\n",
    "        chunk_matrix = None\n",
    "        if chunk == \"\":\n",
    "            continue\n",
    "        # Parse the weight of the chunk\n",
    "        try:\n",
    "            if \"*\" in chunk:\n",
    "                weight = complex(chunk.split(\"*\")[0])\n",
    "                chunk = chunk.split(\"*\")[1]\n",
    "            elif \"part\" in chunk and chunk[0] != \"p\":\n",
    "                weight = complex(chunk.split(\"part\")[0])\n",
    "                chunk = \"part\" + chunk.split(\"part\")[1]\n",
    "            else:\n",
    "                weight = complex(chunk)\n",
    "                chunk_matrix = np.eye(2**n)\n",
    "        except ValueError:\n",
    "            if chunk[0] == \"-\":\n",
    "                weight = -1\n",
    "                chunk = chunk[1:]\n",
    "            elif chunk[0] == \"+\":\n",
    "                weight = 1\n",
    "                chunk = chunk[1:]\n",
    "            else:\n",
    "                weight = 1\n",
    "        # If the chunk is a part, add it to the Hamiltonian\n",
    "        if chunk_matrix is not None:\n",
    "            pass\n",
    "        elif chunk.startswith(\"part\"):\n",
    "            chunk_matrix = parts[int(chunk.split(\"part\")[1])]\n",
    "        else:\n",
    "            if len(chunk) != n:\n",
    "                raise ValueError(f\"Gate count must be {n} but was {len(chunk)} for chunk \\\"{chunk}\\\"\")\n",
    "\n",
    "            # Get the matrix representation of the chunk\n",
    "            chunk_matrix = s(chunk[0])\n",
    "            for gate in chunk[1:]:\n",
    "                if sparse:\n",
    "                    chunk_matrix = sp.kron(chunk_matrix, s(gate))\n",
    "                else:\n",
    "                    chunk_matrix = np.kron(chunk_matrix, s(gate))\n",
    "\n",
    "        # Add the chunk to the Hamiltonian\n",
    "        # print(\"chunk\", chunk, hamiltonian, parts)\n",
    "        # print(type(H), \"+=\", weight, type(chunk_matrix))\n",
    "        H += weight * chunk_matrix\n",
    "\n",
    "    if sparse:\n",
    "        assert np.allclose(H.data, H.conj().T.data), f\"The given Hamiltonian {hamiltonian} is not Hermitian: {H.data}\"\n",
    "    else:\n",
    "        assert np.allclose(H, H.conj().T), f\"The given Hamiltonian {hamiltonian} is not Hermitian: {H}\"\n",
    "\n",
    "    return H\n",
    "\n",
    "def calculate_rdms(state, n):\n",
    "    \"\"\" Calculate reduced density matrix for each node and each edge in the fully connected graph. \"\"\"\n",
    "\n",
    "    # calculate reduced density matrix for each node\n",
    "    node_rdms = []\n",
    "    for i in range(n):\n",
    "        rdm_i = partial_trace(state, i)\n",
    "        # reshape to a matrix\n",
    "        node_rdms.append(np.array(rdm_i))\n",
    "    # calculate reduced density matrix for each edge\n",
    "    edge_rdms = []\n",
    "    for i,j in itertools.combinations(range(n), 2):\n",
    "        rdm_ij = partial_trace(state, [i,j])\n",
    "        edge_rdms.append(np.array(rdm_ij))\n",
    "    return np.array(node_rdms), np.array(edge_rdms)\n",
    "\n",
    "def get_n_qubits(hamiltonian):\n",
    "    if isinstance(hamiltonian, str):\n",
    "        H = parse_hamiltonian(hamiltonian, sparse=True)\n",
    "    elif isinstance(hamiltonian, nk.operator.DiscreteOperator):\n",
    "        H = hamiltonian.to_sparse().astype(complex)\n",
    "    else:\n",
    "        H = hamiltonian\n",
    "    return int(np.log2(H.shape[0]))\n",
    "\n",
    "def partial_trace(rho, retain_qubits):\n",
    "    \"\"\"Trace out all qubits not specified in `retain_qubits`.\"\"\"\n",
    "    rho = np.array(rho)\n",
    "    n = int(np.log2(rho.shape[0])) # number of qubits\n",
    "\n",
    "    # pre-process retain_qubits\n",
    "    if isinstance(retain_qubits, int):\n",
    "        retain_qubits = [retain_qubits]\n",
    "    dim_r = 2**len(retain_qubits)\n",
    "\n",
    "    # get qubits to trace out\n",
    "    trace_out = np.array(sorted(set(range(n)) - set(retain_qubits)))\n",
    "    # ignore all qubits >= n\n",
    "    trace_out = trace_out[trace_out < n]\n",
    "\n",
    "    # if rho is a state vector\n",
    "    if len(rho.shape) == 1:\n",
    "        st  = rho.reshape([2]*n)\n",
    "        rho = np.tensordot(st, st.conj(), axes=(trace_out,trace_out))\n",
    "    # if trace out all qubits, just return the normal trace\n",
    "    elif len(trace_out) == n:\n",
    "        return np.trace(rho).reshape(1,1) # dim_r is not necessarily 1 here (if some in `retain_qubits` are >= n)\n",
    "    else:\n",
    "        assert rho.shape[0] == rho.shape[1], f\"Can't trace a non-square matrix {rho.shape}\"\n",
    "\n",
    "        rho = rho.reshape([2]*(2*n))\n",
    "        for qubit in trace_out:\n",
    "            rho = np.trace(rho, axis1=qubit, axis2=qubit+n)\n",
    "            n -= 1         # one qubit less\n",
    "            trace_out -= 1 # rename the axes (only \"higher\" ones are left)\n",
    "\n",
    "    return rho.reshape(dim_r, dim_r)\n",
    "\n",
    "def undirected_edges_from_graph(graph):\n",
    "    edges = graph.edges()\n",
    "    edges = np.array(edges).T\n",
    "    edges = np.concatenate([edges, edges[:,::-1]], axis=0)\n",
    "    edges = np.sort(edges, axis=0)\n",
    "    return edges[0], edges[1]"
   ]
  },
  {
   "cell_type": "markdown",
   "metadata": {},
   "source": [
    "# Generate random ising hamiltonians"
   ]
  },
  {
   "cell_type": "markdown",
   "metadata": {},
   "source": [
    "## nk.operator.Ising"
   ]
  },
  {
   "cell_type": "code",
   "execution_count": 3,
   "metadata": {},
   "outputs": [],
   "source": [
    "# Generate random ising hamiltonians\n",
    "def generate_nk_ising(N, n, circular=True):\n",
    "    J = np.random.uniform(-1, 1, size=N) # Coupling constant\n",
    "    g = np.random.uniform(-1, 1, size=N) # Transverse field\n",
    "    if isinstance(n, int):\n",
    "        n = (n,)\n",
    "    n_tot = int(np.prod(n))\n",
    "\n",
    "    hamiltonians = []\n",
    "    for i in range(N):\n",
    "        graph = nk.graph.Grid(n, pbc=circular)\n",
    "        ising = nk.operator.Ising(\n",
    "            hilbert=nk.hilbert.Spin(s=0.5, N=n_tot),\n",
    "            graph=graph,\n",
    "            J=J[i], h=g[i]\n",
    "        )\n",
    "\n",
    "        # Convert hyperparameters to the right format\n",
    "        J_i = np.zeros((n_tot, n_tot))\n",
    "        edges = undirected_edges_from_graph(graph)\n",
    "        J_i[edges] = J[i]\n",
    "        h_i = np.zeros(n_tot)\n",
    "        g_i = g[i] * np.ones(n_tot)\n",
    "    \n",
    "        hamiltonians.append((ising, {\"J\": J_i, \"h\": h_i, \"g\": g_i}))\n",
    "    return hamiltonians\n",
    "\n",
    "# Generate a random ising hamiltonian\n",
    "imshow(generate_nk_ising(1, n=(2,4))[0][0].to_dense())"
   ]
  },
  {
   "cell_type": "markdown",
   "metadata": {},
   "source": [
    "## ising_model"
   ]
  },
  {
   "cell_type": "code",
   "execution_count": null,
   "metadata": {},
   "outputs": [
    {
     "data": {
      "image/png": "[encoded data removed]",
      "text/plain": [
       "<Figure size 800x600 with 2 Axes>"
      ]
     },
     "metadata": {},
     "output_type": "display_data"
    }
   ],
   "source": [
    "# Use the ising_model function to generate more general ising models\n",
    "def generate_random_ising(N, n, circular=True):\n",
    "    n_tot = np.prod(n)\n",
    "    if isinstance(n, int):\n",
    "        n = (n,)\n",
    "    J = np.random.uniform(-1, 1, size=(N, n_tot, n_tot))\n",
    "    # make sure each J is symmetric\n",
    "    for i in range(N):\n",
    "        J[i] = (J[i] + J[i].T)/2\n",
    "        # make sure the diagonal is zero\n",
    "        J[i] -= np.diag(np.diag(J[i]))\n",
    "    h = np.random.uniform(-1, 1, size=(N, n_tot))\n",
    "    g = np.random.uniform(-1, 1, size=(N, n_tot))\n",
    "\n",
    "    hamiltonians = []\n",
    "    for i in range(N):\n",
    "        H_ising_str = ising_model(n, J[i], h[i], g[i], kind=f'{len(n)}d', circular=circular)\n",
    "\n",
    "        # create graph to find the indices of the edges\n",
    "        grid = nk.graph.Grid(n, pbc=circular)\n",
    "        edges = undirected_edges_from_graph(grid)\n",
    "        J_i = np.zeros((n_tot, n_tot))\n",
    "        J_i[edges] = J[i][edges]\n",
    "    \n",
    "        hamiltonians.append((H_ising_str, {\"J\": J_i, \"h\": h[i], \"g\": g[i]}))\n",
    "\n",
    "    return hamiltonians\n",
    "\n",
    "# This creates a hamiltonian like netket does, but using the ising_model function\n",
    "def generate_random_ising_like_nk(N, n, circular=True):\n",
    "    \"\"\" The main differences with generate_random_ising is (1) the coupling and field strengths are everywhere the same and (2) there is no longitudinal local field.\"\"\"\n",
    "    J = np.random.uniform(-1, 1, size=N)\n",
    "    g = np.random.uniform(-1, 1, size=N)\n",
    "    n_tot = np.prod(n)\n",
    "\n",
    "    hamiltonians = []\n",
    "    for i in range(N):\n",
    "        H_ising_str = ising_model(n, J[i], 0, g[i], kind=f'{len(n)}d', circular=circular)\n",
    "\n",
    "        # create graph to find the indices of the edges\n",
    "        grid = nk.graph.Grid(n, pbc=circular)\n",
    "        edges = undirected_edges_from_graph(grid)\n",
    "        J_i = np.zeros((n_tot, n_tot))\n",
    "        J_i[edges] = J[i]\n",
    "        h_i = np.zeros(n_tot)\n",
    "        g_i = g[i]*np.ones(n_tot)\n",
    "\n",
    "        hamiltonians.append((H_ising_str, {\"J\": J_i, \"h\": h_i, \"g\": g_i}))\n",
    "\n",
    "    return hamiltonians\n",
    "\n",
    "# show a random hamiltonian\n",
    "imshow(parse_hamiltonian(generate_random_ising(N=1, n=(2,3), circular=False)[0][0]).real)"
   ]
  },
  {
   "cell_type": "markdown",
   "metadata": {},
   "source": [
    "## Check equivalence"
   ]
  },
  {
   "cell_type": "code",
   "execution_count": null,
   "metadata": {},
   "outputs": [
    {
     "data": {
      "text/plain": [
       "True"
      ]
     },
     "execution_count": 5,
     "metadata": {},
     "output_type": "execute_result"
    }
   ],
   "source": [
    "L = 3    # length of the lattice\n",
    "n_dim = 2  # dimension of the lattice (1 = string, 2 = square, 3 = cube, ...)\n",
    "J = np.random.uniform(-1, 1)\n",
    "h = np.random.uniform(-1, 1)\n",
    "circular = False\n",
    "\n",
    "# check if the Hilbert space dimension is too large (happens too easily)\n",
    "H_dim = 2**(L**n_dim)\n",
    "mem_required = H_dim**2 *4\n",
    "if mem_required > psutil.virtual_memory().available:\n",
    "    raise ValueError(f\"Warning: Large Hilbert space dimension {H_dim}! This would blow up your memory ({duh(mem_required)} bytes required)!\")\n",
    "elif H_dim > 2**11:\n",
    "    print(f\"Warning: Large Hilbert space dimension {H_dim}! This may take a while ({duh(mem_required)} bytes required)!\")\n",
    "\n",
    "# netket version of the Ising model\n",
    "ising_nk = nk.operator.Ising(\n",
    "    hilbert=nk.hilbert.Spin(s=0.5, N=L**n_dim),\n",
    "    graph=nk.graph.Hypercube(length=L, n_dim=n_dim, pbc=circular),\n",
    "    J=J, h=h\n",
    ").to_dense()\n",
    "# corresponds to the following special case\n",
    "H_str = ising_model([L]*n_dim, J, 0, -h, circular=circular, kind=f\"{n_dim}d\")\n",
    "ising_own = parse_hamiltonian(H_str).real\n",
    "\n",
    "np.allclose(ising_nk, ising_own)"
   ]
  },
  {
   "cell_type": "markdown",
   "metadata": {},
   "source": [
    "# Calculate ground state energies"
   ]
  },
  {
   "cell_type": "markdown",
   "metadata": {},
   "source": [
    "## Exact diagonalization"
   ]
  },
  {
   "cell_type": "code",
   "execution_count": null,
   "metadata": {},
   "outputs": [],
   "source": [
    "def diagonalize(hamiltonian, *args):\n",
    "    if isinstance(hamiltonian, str):\n",
    "        H = parse_hamiltonian(hamiltonian, sparse=True).real\n",
    "    elif isinstance(hamiltonian, nk.operator.DiscreteOperator):\n",
    "        H = hamiltonian.to_sparse()\n",
    "    else:\n",
    "        H = hamiltonian\n",
    "\n",
    "    evals, evecs = sp.linalg.eigsh(H, k=1, which='SA')\n",
    "    ground_state_energy = evals[0]\n",
    "    ground_state = evecs[:,0]\n",
    "    return ground_state_energy, ground_state"
   ]
  },
  {
   "cell_type": "markdown",
   "metadata": {},
   "source": [
    "### **The actual generation is happening here!!!**"
   ]
  },
  {
   "cell_type": "code",
   "execution_count": null,
   "metadata": {},
   "outputs": [],
   "source": [
    "def generate_exact(hamiltonians, data_path=None):\n",
    "    \"\"\"Generate the data set using exact diagonalization. This function does three things:\n",
    "    1. Diagonalize the given Hamiltonians using exact diagonalization.\n",
    "    2. Calculate the reduced density matrix of the ground state for each node and each edge in the fully connect graph.\n",
    "    3. Save the data set to a file specified by data_path (optional).\n",
    "\n",
    "    Previously generated data set can be extended by passing the path to the existing data set to data_path.\n",
    "    If `data_path` is passed and data is found, but no Hamiltonians are given, the existing data set is returned.\n",
    "\n",
    "    Parameters\n",
    "        hamiltonians: list of 2-tuples, with Hamiltonians to be diagonalized (need to have all the same number dimension) and their hyperparameters\n",
    "        data_path: path to save the data set\n",
    "\n",
    "    Returns\n",
    "        data: structured array containing the data set\n",
    "    \"\"\"\n",
    "    if data_path is not None:\n",
    "        # add .npy extension if not present\n",
    "        if not data_path.endswith('.npy'):\n",
    "            data_path += '.npy'\n",
    "        if os.path.exists(data_path):\n",
    "            # load existing data\n",
    "            data_old = np.load(data_path, allow_pickle=True)\n",
    "        else:\n",
    "            os.makedirs(os.path.dirname(data_path), exist_ok=True)\n",
    "            data_old = None\n",
    "    if len(hamiltonians) == 0:\n",
    "        if data_path is not None and data_old is not None:\n",
    "            return data_old\n",
    "        else:\n",
    "            raise ValueError('No Hamiltonians given and no already generated data set found.')\n",
    "\n",
    "    # get number of qubits\n",
    "    n = get_n_qubits(hamiltonians[0][0])\n",
    "    # create a structured array to store the data\n",
    "    data = np.empty(len(hamiltonians), dtype=[\n",
    "        ('hamiltonian', 'O'),                 # hamiltonian hyperparameters\n",
    "        ('energy', 'f8'),                     # ground state energy\n",
    "        # ('state', 'f8', (2**n,)),           # ground state (warning: blows up the data set size)\n",
    "        ('node_rdm', 'f8', (n,2,2)),          # reduced density matrix for each node\n",
    "        ('edge_rdm', 'f8', (n*(n-1)//2,4,4))  # reduced density matrix for each edge\n",
    "    ])\n",
    "    for i in tq(range(len(hamiltonians)), desc='Generating data set'):\n",
    "        # get Hamiltonian\n",
    "        hamiltonian, hyperparameters = hamiltonians[i]\n",
    "        # get ground state energy and state\n",
    "        energy, state = diagonalize(hamiltonian)\n",
    "        # calculate reduced density matrix for each node and each edge\n",
    "        node_rdms, edge_rdms = calculate_rdms(state, n)\n",
    "        # add data to structured array\n",
    "        # data[i] = (hyperparameters, energy, state, node_rdms, edge_rdms)\n",
    "        data[i] = (hyperparameters, energy, node_rdms, edge_rdms)\n",
    "\n",
    "    if data_path is not None:\n",
    "        if data_old is not None:\n",
    "            # merge old and new data\n",
    "            data = np.concatenate([data_old, data])\n",
    "            # remove duplicates\n",
    "            # data = np.unique(data, axis=0)\n",
    "        np.save(data_path, data)\n",
    "\n",
    "    return data"
   ]
  },
  {
   "cell_type": "code",
   "execution_count": null,
   "metadata": {},
   "outputs": [
    {
     "data": {
      "application/vnd.jupyter.widget-view+json": {
       "model_id": "25f0de3150f24923ae891bdf35c096d5",
       "version_major": 2,
       "version_minor": 0
      },
      "text/plain": [
       "Generating data set:   0%|          | 0/100 [00:00<?, ?it/s]"
      ]
     },
     "metadata": {},
     "output_type": "display_data"
    },
    {
     "data": {
      "image/png": "[encoded data removed]",
      "text/plain": [
       "<Figure size 1000x500 with 1 Axes>"
      ]
     },
     "metadata": {},
     "output_type": "display_data"
    }
   ],
   "source": [
    "clear_output()\n",
    "n = (12,)  # System size\n",
    "          # Timing for exact diagonalization (on M1 chip)\n",
    "          # (8,) => 34000 / min, (12,) => 1400 / min, (16,) => 100 / min, (20,) => 4 / min\n",
    "          # (2,4) => 36000 /min, (3,3) => 8000 / min, (3,4) => 1500 / min, (4,4) => 100 / min, (5,4) => 8 / min\n",
    "          # (2,2,2) => 40000 / min, (2,2,3) => 1500 / min, (2,3,3) => 30 / min\n",
    "circular = False # Whether to use periodic boundaries\n",
    "N = 100          # Number of samples to generate\n",
    "\n",
    "# Generate\n",
    "data = generate_exact(generate_nk_ising(N, n, circular=circular), data_path=f'data/nk_{n}_{circular}')\n",
    "\n",
    "# Plot\n",
    "_ = hist(data['energy'], xlabel=\"Ground state energy\", title=f\"Ground state energy of {len(data)} random ising models with n={n} (circ={circular})\")"
   ]
  },
  {
   "cell_type": "code",
   "execution_count": null,
   "metadata": {},
   "outputs": [
    {
     "data": {
      "application/vnd.jupyter.widget-view+json": {
       "model_id": "c125a0b4ef7a4e928e3a9c3382b13571",
       "version_major": 2,
       "version_minor": 0
      },
      "text/plain": [
       "Generating data set:   0%|          | 0/100 [00:00<?, ?it/s]"
      ]
     },
     "metadata": {},
     "output_type": "display_data"
    },
    {
     "data": {
      "image/png": "[encoded data removed]",
      "text/plain": [
       "<Figure size 1000x500 with 1 Axes>"
      ]
     },
     "metadata": {},
     "output_type": "display_data"
    }
   ],
   "source": [
    "clear_output()\n",
    "n = (8,)  # System size\n",
    "          # Timing for exact diagonlization (on M1 chip):\n",
    "          # (8,) => 1400/min, (12,) => 12/min\n",
    "          # (2,2) => 7400/min, (2,3) => 3200/min, (3,3) => 320/min, (3,4) => 10/min\n",
    "          # (2,2,2) => 1100/min\n",
    "circular = False  # Circular boundary\n",
    "N = 100           # Number of samples to generate\n",
    "\n",
    "# Generate\n",
    "data = generate_exact(generate_random_ising(N, n, circular=circular), data_path=f'data/own_{n}_{circular}')\n",
    "\n",
    "# Plot\n",
    "_ = hist(data['energy'], xlabel=\"Ground state energy\", title=f\"Ground state energy of {len(data)} random ising models with n={n} (circ={circular})\")"
   ]
  },
  {
   "cell_type": "code",
   "execution_count": null,
   "metadata": {},
   "outputs": [
    {
     "ename": "SystemExit",
     "evalue": "",
     "output_type": "error",
     "traceback": [
      "An exception has occurred, use %tb to see the full traceback.\n",
      "\u001b[0;31mSystemExit\u001b[0m\n"
     ]
    }
   ],
   "source": [
    "sys.exit() # here to prevent the notebook from running further and destroying the plots when running all cells"
   ]
  },
  {
   "cell_type": "code",
   "execution_count": null,
   "metadata": {},
   "outputs": [
    {
     "name": "stdout",
     "output_type": "stream",
     "text": [
      "30.5 ms ± 391 µs per loop (mean ± std. dev. of 7 runs, 10 loops each)\n",
      "32.9 ms ± 285 µs per loop (mean ± std. dev. of 7 runs, 10 loops each)\n",
      "43.9 ms ± 730 µs per loop (mean ± std. dev. of 7 runs, 10 loops each)\n",
      "4.21 s ± 100 ms per loop (mean ± std. dev. of 7 runs, 1 loop each)\n"
     ]
    },
    {
     "data": {
      "text/plain": [
       "((256, 256), (256, 256))"
      ]
     },
     "execution_count": 21,
     "metadata": {},
     "output_type": "execute_result"
    }
   ],
   "source": [
    "n = (8,)\n",
    "# constructing the abstract representations of the hamiltonians\n",
    "%timeit len(list(generate_nk_ising(N=100, n=n)))\n",
    "%timeit len(list(generate_random_ising(N=100, n=n)))\n",
    "# creating the actual matrices\n",
    "%timeit len(list(h.to_sparse() for h, _ in generate_nk_ising(N=100, n=n)))\n",
    "%timeit len(list(parse_hamiltonian(h, sparse=True) for h, _ in generate_random_ising(N=100, n=n)))\n",
    "# look at the shapes\n",
    "generate_nk_ising(N=1, n=n)[0][0].to_sparse().shape, parse_hamiltonian(generate_random_ising(N=1, n=n)[0][0]).shape"
   ]
  },
  {
   "cell_type": "markdown",
   "metadata": {},
   "source": [
    "## Mean field ansatz"
   ]
  },
  {
   "cell_type": "code",
   "execution_count": null,
   "metadata": {},
   "outputs": [],
   "source": [
    "import jax.numpy as jnp\n",
    "import flax.linen as nn\n",
    "import json\n",
    "\n",
    "def save_data(specifier, cb=None):\n",
    "    path = f\"data/data_{specifier}.json\"\n",
    "    def _save(arg):\n",
    "        if cb is not None:\n",
    "            key, value = cb(arg)\n",
    "        else:\n",
    "            key, value = arg\n",
    "        # append to json dict\n",
    "        if os.path.exists(path):\n",
    "            with open(path, \"r\") as f:\n",
    "                data = json.load(f)\n",
    "        else:\n",
    "            data = {}\n",
    "        data[key] = value\n",
    "        with open(path, \"w\") as f:\n",
    "            json.dump(data, f, indent=2)\n",
    "    return _save"
   ]
  },
  {
   "cell_type": "code",
   "execution_count": null,
   "metadata": {},
   "outputs": [],
   "source": [
    "class MF(nn.Module):\n",
    "\n",
    "    @nn.compact\n",
    "    def __call__(self, x):\n",
    "        \"\"\"\n",
    "        Input: x.shape = (n_samples, L)\n",
    "        Output: log_psi.shape = (n_samples,)\n",
    "        \"\"\"\n",
    "        lam = self.param(\n",
    "            \"lambda\", nn.initializers.normal(), (1,), float\n",
    "        )\n",
    "        p = nn.log_sigmoid(lam*x)\n",
    "        return 0.5 * jnp.sum(p, axis=-1)\n",
    "    \n",
    "def mean_field(hamiltonian, n_samples=1000, n_iter=300, logfile='test', show_progress=False):\n",
    "    vstate = nk.vqs.MCState(\n",
    "        sampler=nk.sampler.MetropolisLocal(hamiltonian.hilbert),\n",
    "        model=MF(),\n",
    "        n_samples=n_samples,\n",
    "    )\n",
    "    optimizer = nk.optimizer.Sgd(learning_rate=0.05)\n",
    "    gs = nk.driver.VMC(hamiltonian, optimizer, variational_state=vstate)\n",
    "    gs.run(n_iter=n_iter, out=logfile, show_progress=show_progress)\n",
    "    energy = vstate.expect(hamiltonian)\n",
    "    # Check if converged\n",
    "    if np.abs(energy.R_hat - 1) > 0.1:\n",
    "        print('Not converged!', energy)\n",
    "        return str(hamiltonian), np.nan\n",
    "\n",
    "    return str(hamiltonian), float(energy.mean)"
   ]
  },
  {
   "cell_type": "code",
   "execution_count": null,
   "metadata": {},
   "outputs": [
    {
     "name": "stdout",
     "output_type": "stream",
     "text": [
      "Ising(J=-0.8897347017710067, h=-0.4943595877530902; dim=12)\n"
     ]
    },
    {
     "name": "stderr",
     "output_type": "stream",
     "text": [
      "\n"
     ]
    },
    {
     "data": {
      "image/png": "[encoded data removed]",
      "text/plain": [
       "<Figure size 640x480 with 1 Axes>"
      ]
     },
     "metadata": {},
     "output_type": "display_data"
    }
   ],
   "source": [
    "clear_output()\n",
    "def plot_json(filename, y, x, exact_energy):\n",
    "    import json\n",
    "    with open(filename) as f:\n",
    "        data = json.load(f)\n",
    "    data = data[\"Energy\"]\n",
    "    plt.plot(data[x], data[y])\n",
    "    plt.axhline(exact_energy, color='r', linestyle='--')\n",
    "    plt.xlabel(x)\n",
    "    plt.ylabel(y)\n",
    "    plt.show()\n",
    "\n",
    "hamiltonian = generate_nk_ising(1, 12)[0][0]\n",
    "print(hamiltonian)\n",
    "mean_field(hamiltonian, n_samples=1000, n_iter=1000, logfile='test', show_progress=True)\n",
    "# Also calculate exact energy\n",
    "exact_energy = sp.linalg.eigsh(hamiltonian.to_sparse().astype(complex), k=1, which='SA')[0][0]\n",
    "# Read JSON from \"test.log\" and plot \"Energy.mean\" against \"Energy.iters\"\n",
    "plot_json('test.log', 'Mean', 'iters', exact_energy)"
   ]
  },
  {
   "cell_type": "markdown",
   "metadata": {},
   "source": [
    "`n_iter == 300` seems like a good choice"
   ]
  },
  {
   "cell_type": "markdown",
   "metadata": {},
   "source": [
    "## VMC (Jastrow)"
   ]
  },
  {
   "cell_type": "code",
   "execution_count": null,
   "metadata": {},
   "outputs": [],
   "source": [
    "class Jastrow(nn.Module):\n",
    "\n",
    "    @nn.compact\n",
    "    def __call__(self, x):\n",
    "        \"\"\"\n",
    "        Input: x.shape = (n_samples, L)\n",
    "        Output: log_psi.shape = (n_samples,)\n",
    "        \"\"\"\n",
    "        lam1 = self.param(\n",
    "            \"lambda1\", nn.initializers.normal(), (1,), float\n",
    "        )\n",
    "        lam2 = self.param(\n",
    "            \"lambda2\", nn.initializers.normal(), (1,), float\n",
    "        )\n",
    "        # compute the nearest-neighbor correlations\n",
    "        corr1=x*jnp.roll(x,-1,axis=-1)\n",
    "        corr2=x*jnp.roll(x,-2,axis=-1)\n",
    "\n",
    "        # sum the output\n",
    "        return jnp.sum(lam1*corr1+lam2*corr2,axis=-1)\n",
    "\n",
    "def jastrow(hamiltonian, n_samples=1000, n_iter=30, logfile='test', show_progress=False):\n",
    "    vstate = nk.vqs.MCState(\n",
    "        sampler=nk.sampler.MetropolisLocal(hamiltonian.hilbert),\n",
    "        model=Jastrow(),\n",
    "        n_samples=n_samples,\n",
    "    )\n",
    "    optimizer = nk.optimizer.Sgd(learning_rate=0.05)\n",
    "    gs = nk.driver.VMC(hamiltonian, optimizer, variational_state=vstate)\n",
    "    gs.run(n_iter=n_iter, out=logfile, show_progress=show_progress)\n",
    "    energy = vstate.expect(hamiltonian)\n",
    "    # Check if converged\n",
    "    if np.abs(energy.R_hat - 1) > 0.1:\n",
    "        print('Not converged!', energy)\n",
    "        return str(hamiltonian), np.nan\n",
    "\n",
    "    return str(hamiltonian), float(energy.mean)"
   ]
  },
  {
   "cell_type": "code",
   "execution_count": null,
   "metadata": {},
   "outputs": [
    {
     "name": "stdout",
     "output_type": "stream",
     "text": [
      "Ising(J=-0.10029482123926003, h=0.21623077672457747; dim=12)\n"
     ]
    },
    {
     "name": "stderr",
     "output_type": "stream",
     "text": [
      "\n"
     ]
    },
    {
     "data": {
      "image/png": "[encoded data removed]",
      "text/plain": [
       "<Figure size 640x480 with 1 Axes>"
      ]
     },
     "metadata": {},
     "output_type": "display_data"
    }
   ],
   "source": [
    "clear_output()\n",
    "def plot_json(filename, y, x, exact_energy):\n",
    "    import json\n",
    "    with open(filename) as f:\n",
    "        data = json.load(f)\n",
    "    data = data[\"Energy\"]\n",
    "    plt.plot(data[x], data[y])\n",
    "    plt.axhline(exact_energy, color='r', linestyle='--')\n",
    "    plt.xlabel(x)\n",
    "    plt.ylabel(y)\n",
    "    plt.show()\n",
    "\n",
    "hamiltonian = generate_nk_ising(1, 12)[0][0]\n",
    "print(hamiltonian)\n",
    "jastrow(hamiltonian, n_samples=1000, n_iter=300, logfile='test', show_progress=True)\n",
    "# Also calculate exact energy\n",
    "exact_energy = sp.linalg.eigsh(hamiltonian.to_sparse().astype(complex), k=1, which='SA')[0][0]\n",
    "# Read JSON from \"test.log\" and plot \"Energy.mean\" against \"Energy.iters\"\n",
    "plot_json('test.log', 'Mean', 'iters', exact_energy)"
   ]
  },
  {
   "cell_type": "markdown",
   "metadata": {},
   "source": [
    "If it converges, it usually takes `10-20` iterations."
   ]
  },
  {
   "cell_type": "markdown",
   "metadata": {},
   "source": [
    "## Grand comparison"
   ]
  },
  {
   "cell_type": "code",
   "execution_count": null,
   "metadata": {},
   "outputs": [],
   "source": [
    "exact_energies = {}\n",
    "mean_field_energies = {}\n",
    "jastrow_energies = {}"
   ]
  },
  {
   "cell_type": "code",
   "execution_count": null,
   "metadata": {},
   "outputs": [
    {
     "data": {
      "application/vnd.jupyter.widget-view+json": {
       "model_id": "70aa0bd392824adb9f5f16be283e16f7",
       "version_major": 2,
       "version_minor": 0
      },
      "text/plain": [
       "  0%|          | 0/1000 [00:00<?, ?it/s]"
      ]
     },
     "metadata": {},
     "output_type": "display_data"
    },
    {
     "data": {
      "image/png": "[encoded data removed]",
      "text/plain": [
       "<Figure size 1000x100 with 1 Axes>"
      ]
     },
     "metadata": {},
     "output_type": "display_data"
    },
    {
     "data": {
      "application/vnd.jupyter.widget-view+json": {
       "model_id": "76be055dd40d42f3b855465f87474b57",
       "version_major": 2,
       "version_minor": 0
      },
      "text/plain": [
       "  0%|          | 0/100 [00:00<?, ?it/s]"
      ]
     },
     "metadata": {},
     "output_type": "display_data"
    },
    {
     "name": "stdout",
     "output_type": "stream",
     "text": [
      "Not converged! -5.937e+00 ± nan [σ²=0.000e+00, R̂=inf]\n",
      "Not converged! -1.163e+01 ± nan [σ²=0.000e+00, R̂=inf]\n"
     ]
    },
    {
     "data": {
      "image/png": "[encoded data removed]",
      "text/plain": [
       "<Figure size 1000x100 with 1 Axes>"
      ]
     },
     "metadata": {},
     "output_type": "display_data"
    },
    {
     "data": {
      "application/vnd.jupyter.widget-view+json": {
       "model_id": "c3adf3acf3c44fc89c8250c7edbd37ed",
       "version_major": 2,
       "version_minor": 0
      },
      "text/plain": [
       "  0%|          | 0/1000 [00:00<?, ?it/s]"
      ]
     },
     "metadata": {},
     "output_type": "display_data"
    },
    {
     "name": "stdout",
     "output_type": "stream",
     "text": [
      "Not converged! -2.256e+00 ± 5.595e-17 [σ²=1.775e-30, R̂=1.1103]\n",
      "Not converged! -9.198e+00 ± 1.119e-16 [σ²=3.155e-30, R̂=1.3757]\n",
      "Not converged! -2.9097 ± 0.0029 [σ²=0.0085, R̂=1.1078]\n",
      "Not converged! -1.020e+01 ± nan [σ²=2.840e-29, R̂=1.1546]\n",
      "Not converged! -6.200e+00 ± nan [σ²=0.000e+00, R̂=inf]\n",
      "Not converged! -8.612 ± 0.014 [σ²=0.211, R̂=1.1057]\n",
      "Not converged! -3.439e+00 ± nan [σ²=0.000e+00, R̂=inf]\n",
      "Not converged! -8.912 ± 0.015 [σ²=0.227, R̂=1.2374]\n",
      "Not converged! -1.190e+01 ± nan [σ²=0.000e+00, R̂=inf]\n",
      "Not converged! -1.085e+01 ± 0.000e+00 [σ²=2.840e-29, R̂=1.1564]\n",
      "Not converged! -7.268 ± 0.029 [σ²=0.847, R̂=1.2071]\n",
      "Not converged! -5.315e+00 ± 2.797e-17 [σ²=7.889e-31, R̂=1.1312]\n",
      "Not converged! -0.659 ± 0.064 [σ²=4.183, R̂=1.2952]\n",
      "Not converged! -8.611e+00 ± 3.357e-16 [σ²=2.840e-29, R̂=1.1093]\n",
      "Not converged! -1.105e+01 ± nan [σ²=0.000e+00, R̂=inf]\n",
      "Not converged! -1.147 ± 0.043 [σ²=1.863, R̂=1.2572]\n",
      "Not converged! -9.416 ± 0.019 [σ²=0.369, R̂=1.1418]\n",
      "Not converged! -4.965e+00 ± 1.958e-16 [σ²=3.155e-30, R̂=1.3288]\n",
      "Not converged! -7.852 ± 0.015 [σ²=0.223, R̂=1.1730]\n",
      "Not converged! -4.304e+00 ± nan [σ²=7.889e-31, R̂=2.2276]\n",
      "Not converged! -1.351e+00 ± nan [σ²=4.930e-32, R̂=1.1004]\n",
      "Not converged! -4.622e+00 ± 1.958e-16 [σ²=7.100e-30, R̂=1.1015]\n",
      "Not converged! -5.120e+00 ± nan [σ²=7.889e-31, R̂=1.2190]\n",
      "Not converged! -4.653e+00 ± nan [σ²=0.000e+00, R̂=inf]\n",
      "Not converged! -8.2443 ± 0.0075 [σ²=0.0572, R̂=1.1423]\n",
      "Not converged! -3.724e+00 ± nan [σ²=0.000e+00, R̂=inf]\n",
      "Not converged! 0.069 ± 0.065 [σ²=4.259, R̂=1.3428]\n"
     ]
    },
    {
     "data": {
      "image/png": "[encoded data removed]",
      "text/plain": [
       "<Figure size 1000x100 with 1 Axes>"
      ]
     },
     "metadata": {},
     "output_type": "display_data"
    }
   ],
   "source": [
    "clear_output()\n",
    "\n",
    "N = 1000\n",
    "L = 12\n",
    "name = \"12nk\"\n",
    "hamiltonians_test = generate_nk_ising(N, L)\n",
    "\n",
    "if L <= 23: # Max size with 16GB RAM\n",
    "    exact_energies[name] = mapp(diagonalize, hamiltonians_test)\n",
    "    scatter1d([e for e,s in exact_energies[name]], title='Exact ground state energies')\n",
    "\n",
    "mean_field_energies[name] = mapp(mean_field, hamiltonians_test[::10], cb=save_data(f'mf_{L}'))\n",
    "scatter1d([e for _,e in mean_field_energies[name]], title='Mean field ground state energies')\n",
    "\n",
    "jastrow_energies[name] = mapp(jastrow, hamiltonians_test, cb=save_data(f'jastrow_{L}'))\n",
    "scatter1d([e for _,e in jastrow_energies[name]], title='Jastrow ground state energies')"
   ]
  },
  {
   "cell_type": "code",
   "execution_count": null,
   "metadata": {},
   "outputs": [],
   "source": [
    "sys.exit()"
   ]
  },
  {
   "cell_type": "markdown",
   "metadata": {},
   "source": [
    "Below this are some generated figures that need quite some time to generate so I didn't want to remove them."
   ]
  },
  {
   "cell_type": "code",
   "execution_count": null,
   "metadata": {},
   "outputs": [
    {
     "data": {
      "application/vnd.jupyter.widget-view+json": {
       "model_id": "e2a8e3e2c58a48419732372b72969b58",
       "version_major": 2,
       "version_minor": 0
      },
      "text/plain": [
       "  0%|          | 0/20000 [00:00<?, ?it/s]"
      ]
     },
     "metadata": {},
     "output_type": "display_data"
    },
    {
     "data": {
      "image/png": "[encoded data removed]",
      "text/plain": [
       "<Figure size 1000x500 with 1 Axes>"
      ]
     },
     "metadata": {},
     "output_type": "display_data"
    }
   ],
   "source": [
    "clear_output()\n",
    "\n",
    "N = 20000\n",
    "L = 12\n",
    "name = \"12nk\"\n",
    "hamiltonians_test = generate_nk_ising(N, L)\n",
    "\n",
    "if L <= 23: # Max size with 16GB RAM\n",
    "    exact_energies[name] = mapp(diagonalize, hamiltonians_test, cb=save_data(f'nk_{L}'))\n",
    "    hist([e for e,s in exact_energies[name]], title='Exact ground state energies')"
   ]
  },
  {
   "cell_type": "code",
   "execution_count": null,
   "metadata": {},
   "outputs": [
    {
     "data": {
      "application/vnd.jupyter.widget-view+json": {
       "model_id": "80ff65ccf90c4ef58cae2c025ecaf4b4",
       "version_major": 2,
       "version_minor": 0
      },
      "text/plain": [
       "  0%|          | 0/20000 [00:00<?, ?it/s]"
      ]
     },
     "metadata": {},
     "output_type": "display_data"
    },
    {
     "data": {
      "image/png": "[encoded data removed]",
      "text/plain": [
       "<Figure size 1000x500 with 1 Axes>"
      ]
     },
     "metadata": {},
     "output_type": "display_data"
    }
   ],
   "source": [
    "clear_output()\n",
    "\n",
    "N = 20000\n",
    "n = (2,3)\n",
    "name = \"6is\"\n",
    "hamiltonians_test = generate_random_ising(N, n)\n",
    "\n",
    "if np.prod(n) <= 23: # Max size with 16GB RAM\n",
    "    exact_energies[name] = mapp(diagonalize, hamiltonians_test) # , cb=save_data(f'{n}')\n",
    "    hist([e for e,s in exact_energies[name]], title='Exact ground state energies')"
   ]
  },
  {
   "cell_type": "code",
   "execution_count": null,
   "metadata": {},
   "outputs": [
    {
     "data": {
      "application/vnd.jupyter.widget-view+json": {
       "model_id": "2d7e9c43f2844754b7d2059f5226f175",
       "version_major": 2,
       "version_minor": 0
      },
      "text/plain": [
       "  0%|          | 0/200 [00:00<?, ?it/s]"
      ]
     },
     "metadata": {},
     "output_type": "display_data"
    },
    {
     "name": "stdout",
     "output_type": "stream",
     "text": [
      "Not converged! -13.44 ± 0.14 [σ²=20.38, R̂=1.3764]\n",
      "Not converged! -11.915 ± 0.074 [σ²=5.533, R̂=1.3953]\n",
      "Not converged! -15.159 ± 0.021 [σ²=0.433, R̂=1.1848]\n",
      "Not converged! -2.688 ± 0.070 [σ²=4.997, R̂=1.2376]\n",
      "Not converged! -9.771e+00 ± nan [σ²=0.000e+00, R̂=inf]\n",
      "Not converged! -2.454e+01 ± 8.952e-16 [σ²=4.544e-28, R̂=1.1060]\n",
      "Not converged! -2.456e+01 ± nan [σ²=0.000e+00, R̂=inf]\n",
      "Not converged! 1.259 ± 0.078 [σ²=6.090, R̂=1.3115]\n",
      "Not converged! -19.801 ± 0.025 [σ²=0.611, R̂=1.1616]\n",
      "Not converged! -1.848e+01 ± 2.238e-16 [σ²=5.049e-29, R̂=1.1701]\n",
      "Not converged! -1.756e+01 ± 4.476e-16 [σ²=5.049e-29, R̂=1.1020]\n",
      "Not converged! -5.373e+00 ± 8.392e-17 [σ²=7.100e-30, R̂=1.1173]\n",
      "Not converged! -2.155e+01 ± 6.714e-16 [σ²=2.019e-28, R̂=1.1423]\n",
      "Not converged! -1.9265 ± 0.0027 [σ²=0.0074, R̂=1.1428]\n",
      "Not converged! -16.901 ± 0.028 [σ²=0.814, R̂=1.4086]\n",
      "Not converged! 5.280 ± 0.024 [σ²=0.600, R̂=1.1913]\n",
      "Not converged! -0.096 ± 0.076 [σ²=5.877, R̂=1.3452]\n",
      "Not converged! -1.044e+01 ± nan [σ²=3.155e-30, R̂=2.0344]\n",
      "nan or inf values detected in data: 25 values 14.285714285714285% filtered out\n"
     ]
    },
    {
     "data": {
      "image/png": "[encoded data removed]",
      "text/plain": [
       "<Figure size 1000x500 with 1 Axes>"
      ]
     },
     "metadata": {},
     "output_type": "display_data"
    },
    {
     "data": {
      "text/plain": [
       "(array([15, 16, 16,  8, 15, 14, 14, 13,  8, 15, 27, 12,  1,  1]),\n",
       " array([-29.8924385 , -27.27141012, -24.65038174, -22.02935337,\n",
       "        -19.40832499, -16.78729662, -14.16626824, -11.54523987,\n",
       "         -8.92421149,  -6.30318312,  -3.68215474,  -1.06112636,\n",
       "          1.55990201,   4.18093039,   6.80195876]))"
      ]
     },
     "execution_count": 27,
     "metadata": {},
     "output_type": "execute_result"
    }
   ],
   "source": [
    "clear_output()\n",
    "\n",
    "N = 200\n",
    "L = 30\n",
    "name = \"30nk\"\n",
    "hamiltonians_test = generate_nk_ising(N, L)\n",
    "\n",
    "jastrow_energies[name] = mapp(jastrow, hamiltonians_test, cb=save_data(f'jastrow_{L}'))\n",
    "hist([e for e,s in jastrow_energies[name]], title='Jastrow ground state energies')"
   ]
  },
  {
   "cell_type": "code",
   "execution_count": null,
   "metadata": {},
   "outputs": [
    {
     "data": {
      "application/vnd.jupyter.widget-view+json": {
       "model_id": "a6d60c53799e49728e12e31491bd6dba",
       "version_major": 2,
       "version_minor": 0
      },
      "text/plain": [
       "  0%|          | 0/2000 [00:00<?, ?it/s]"
      ]
     },
     "metadata": {},
     "output_type": "display_data"
    },
    {
     "data": {
      "image/png": "[encoded data removed]",
      "text/plain": [
       "<Figure size 1000x500 with 1 Axes>"
      ]
     },
     "metadata": {},
     "output_type": "display_data"
    },
    {
     "data": {
      "text/plain": [
       "(array([ 4,  8, 22, 21, 15, 29, 46, 44, 65, 83, 80, 85, 75, 86, 74, 83, 69,\n",
       "        75, 69, 54, 57, 65, 65, 65, 52, 57, 52, 58, 56, 44, 48, 33, 47, 32,\n",
       "        27, 34, 20, 20, 17, 14, 15, 14, 11,  5,  5]),\n",
       " array([-25.16726518, -24.62169113, -24.07611708, -23.53054302,\n",
       "        -22.98496897, -22.43939492, -21.89382086, -21.34824681,\n",
       "        -20.80267276, -20.25709871, -19.71152465, -19.1659506 ,\n",
       "        -18.62037655, -18.0748025 , -17.52922844, -16.98365439,\n",
       "        -16.43808034, -15.89250628, -15.34693223, -14.80135818,\n",
       "        -14.25578413, -13.71021007, -13.16463602, -12.61906197,\n",
       "        -12.07348791, -11.52791386, -10.98233981, -10.43676576,\n",
       "         -9.8911917 ,  -9.34561765,  -8.8000436 ,  -8.25446954,\n",
       "         -7.70889549,  -7.16332144,  -6.61774739,  -6.07217333,\n",
       "         -5.52659928,  -4.98102523,  -4.43545117,  -3.88987712,\n",
       "         -3.34430307,  -2.79872902,  -2.25315496,  -1.70758091,\n",
       "         -1.16200686,  -0.6164328 ]))"
      ]
     },
     "execution_count": 75,
     "metadata": {},
     "output_type": "execute_result"
    }
   ],
   "source": [
    "clear_output()\n",
    "\n",
    "N = 2000\n",
    "L = 20\n",
    "name = f\"{L}nk\"\n",
    "hamiltonians_test = generate_nk_ising(N, L)\n",
    "\n",
    "exact_energies[name] = mapp(diagonalize, hamiltonians_test, cb=save_data(f'nk_{L}'))\n",
    "hist([e for e,s in exact_energies[name]], title='Exact ground state energies')"
   ]
  },
  {
   "cell_type": "markdown",
   "metadata": {},
   "source": [
    "## Inspect generated data\n",
    "(only for the old json format)"
   ]
  },
  {
   "cell_type": "code",
   "execution_count": null,
   "metadata": {},
   "outputs": [
    {
     "name": "stdout",
     "output_type": "stream",
     "text": [
      "** 25649 entries **\n",
      "-0.048\tIsing(J=-0.0023830287088391078, h=-0.0036259028799132675; dim=12)\n",
      "-0.067\tIsing(J=-0.005372007939111079, h=-0.00199769177451925; dim=12)\n",
      "-0.098\tIsing(J=-0.00406869368904994, h=0.007618276772120236; dim=12)\n",
      "-0.151\tIsing(J=0.006803878281625764, h=0.011576980778128076; dim=12)\n",
      "-0.162\tIsing(J=0.007532350518863806, h=-0.012336536584942603; dim=12)\n",
      "-0.171\tIsing(J=-0.006998030814555634, h=-0.013288901364894912; dim=12)\n",
      "-0.188\tIsing(J=0.013791444166151079, h=-0.009916519386437894; dim=12)\n",
      "-0.217\tIsing(J=0.006394337019399288, h=-0.017488638099401932; dim=12)\n",
      "-0.233\tIsing(J=0.006455496170406194, h=-0.01883834643085458; dim=12)\n",
      "-0.300\tIsing(J=-0.024215757167517893, h=0.008527348382344035; dim=12)\n"
     ]
    },
    {
     "data": {
      "image/png": "[encoded data removed]",
      "text/plain": [
       "<Figure size 1000x500 with 1 Axes>"
      ]
     },
     "metadata": {},
     "output_type": "display_data"
    }
   ],
   "source": [
    "# with open('data/data_jastrow_30.json', 'r') as f:\n",
    "with open('data/data_nk_12.json', 'r') as f:\n",
    "# with open('data/data_(2, 3).json', 'r') as f:\n",
    "    data = json.load(f)\n",
    "    # sort by energy\n",
    "    data_s = sorted(data.items(), key=lambda x: x[1] if not np.isnan(x[1]) else -np.inf)\n",
    "    print(\"**\",len(data), \"entries **\")\n",
    "    for H, E0 in data_s[::-1][:10]:\n",
    "        print(f\"{E0:>3.3f}\\t{H}\")\n",
    "    hist(list(data.values()))"
   ]
  }
 ],
 "metadata": {
  "kernelspec": {
   "display_name": "Python 3",
   "language": "python",
   "name": "python3"
  },
  "language_info": {
   "codemirror_mode": {
    "name": "ipython",
    "version": 3
   },
   "file_extension": ".py",
   "mimetype": "text/x-python",
   "name": "python",
   "nbconvert_exporter": "python",
   "pygments_lexer": "ipython3",
   "version": "3.11.4"
  },
  "orig_nbformat": 4
 },
 "nbformat": 4,
 "nbformat_minor": 2
}
